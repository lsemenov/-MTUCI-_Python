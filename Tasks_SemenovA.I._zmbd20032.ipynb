{
 "cells": [
  {
   "cell_type": "markdown",
   "metadata": {},
   "source": [
    "### Программирование на языке Python, МТУСИ\n",
    "\n",
    "#### Практическое задание 1\n",
    "\n",
    "#### Выполнил :   Семенов А.И.\n",
    "\n",
    "#### Группа:   ЗМБД2032\n"
   ]
  },
  {
   "cell_type": "markdown",
   "metadata": {},
   "source": [
    "# Задания"
   ]
  },
  {
   "cell_type": "markdown",
   "metadata": {},
   "source": [
    "### Задание 1: <a class=\"anchor\" id=\"task1\"></a>\n",
    "Все пункты нужно ввыполнить с использованием ТОЛЬКО срезов\n",
    "* Получите подстроку 'string' из строки test_string\n",
    "* Получите подстроку 'Just' из строки test_string\n",
    "* Получите подстроку 'simple' из строки test_string\n",
    "* Получите каждый 5 символ из строки test_string\n",
    "* Получите каждый 3 символ из строки test_string, начиная с конца."
   ]
  },
  {
   "cell_type": "code",
   "execution_count": 24,
   "metadata": {},
   "outputs": [
    {
     "name": "stdout",
     "output_type": "stream",
     "text": [
      "string \n",
      " Just \n",
      " simple  \n",
      " Japt \n",
      " gr ps u\n"
     ]
    }
   ],
   "source": [
    "test_string = 'Just a simple string'\n",
    "print(test_string[-6:],\"\\n\", test_string[:4] ,\"\\n\", test_string[7:14] , \"\\n\", test_string[::5], \"\\n\", test_string[::-3] )\n"
   ]
  },
  {
   "cell_type": "markdown",
   "metadata": {},
   "source": [
    "### Задание 2: <a class=\"anchor\" id=\"task3\"></a>\n",
    "\n",
    "Написать функцию, которая будет приниметь одно значение с логическими типы, а затем ковертировать их в строковые 'True' и 'False' и возвращать эти значения."
   ]
  },
  {
   "cell_type": "code",
   "execution_count": 2,
   "metadata": {},
   "outputs": [
    {
     "name": "stdout",
     "output_type": "stream",
     "text": [
      "True\n"
     ]
    }
   ],
   "source": [
    "def convrt(a:bool):\n",
    "    if a :\n",
    "        print(\"True\")\n",
    "    else:\n",
    "        print( \"False\")\n",
    "\n",
    "convrt(4==4)\n"
   ]
  },
  {
   "cell_type": "markdown",
   "metadata": {},
   "source": [
    "### Задание 3: <a class=\"anchor\" id=\"task3\"></a>\n",
    "\n",
    "Написать функцию, которая будет приниметь одно значение - список. Вычислить разницу между максимальным и минимальным значением и вернуть его."
   ]
  },
  {
   "cell_type": "code",
   "execution_count": 85,
   "metadata": {},
   "outputs": [
    {
     "data": {
      "text/plain": [
       "98"
      ]
     },
     "execution_count": 85,
     "metadata": {},
     "output_type": "execute_result"
    }
   ],
   "source": [
    "def diff(a:list):\n",
    "    a_max = max(a)\n",
    "    a_min = min(a)\n",
    "    dif = a_max - a_min\n",
    "    return dif\n",
    "\n",
    "diff([1,2,3,4,99])"
   ]
  },
  {
   "cell_type": "markdown",
   "metadata": {},
   "source": [
    "### Задание 4: <a class=\"anchor\" id=\"task4\"></a>\n",
    "\n",
    "Написать функцию, которая будет принимать одно значение - число. Функция должна возвращать список всех четных чисел в диапозоне от 1 до полученного числа. В этом задании нужно использовать list comprehension."
   ]
  },
  {
   "cell_type": "code",
   "execution_count": 5,
   "metadata": {},
   "outputs": [
    {
     "data": {
      "text/plain": [
       "[2, 4, 6, 8, 10]"
      ]
     },
     "execution_count": 5,
     "metadata": {},
     "output_type": "execute_result"
    }
   ],
   "source": [
    "def my_func(a:int):\n",
    "    if a>0:\n",
    "        evn = [x for x in range(1,a+1) if x%2 == 0]\n",
    "        return evn\n",
    "    else:\n",
    "        evn = [x for x in range(a,1) if x%2 == 0]\n",
    "        return evn\n",
    "    \n",
    "my_func(10)"
   ]
  },
  {
   "cell_type": "markdown",
   "metadata": {},
   "source": [
    "### Задание 5: <a class=\"anchor\" id=\"task2\"></a>\n",
    "\n",
    "Напишите функцию, который имеет два аргумента - x и y. Функция должна выводить координатный угол, в котором находятся координаты (x, y). \n",
    "Точки внутри координатного угла I имеют положительные абсциссы и ординаты.\n",
    "Точки внутри координатного угла II имеют отрицательные абсциссы и положительные ординаты.\n",
    "Точки внутри координатного угла III имеют отрицательные абсциссы и ординаты\n",
    "Точки внутри координатного угла IV имеют положительные абсциссы и отрицательные ординаты."
   ]
  },
  {
   "cell_type": "code",
   "execution_count": 7,
   "metadata": {},
   "outputs": [
    {
     "data": {
      "text/plain": [
       "'IV четверть'"
      ]
     },
     "execution_count": 7,
     "metadata": {},
     "output_type": "execute_result"
    }
   ],
   "source": [
    "def my_func(x, y):\n",
    "    if x > 0 and y > 0:\n",
    "        return \"I четверть\"\n",
    "    elif x < 0 and y > 0:\n",
    "        return \"II четверть\"\n",
    "    elif x < 0 and y < 0:\n",
    "        return \"III четверть\"\n",
    "    elif x > 0 and y < 0:\n",
    "        return \"IV четверть\"\n",
    "\n",
    "my_func(12,-2)"
   ]
  },
  {
   "cell_type": "code",
   "execution_count": 15,
   "metadata": {},
   "outputs": [
    {
     "name": "stdout",
     "output_type": "stream",
     "text": [
      "(1, 2) : I четверть : True\n",
      "(-1, -2) : III четверть : True\n",
      "(-5, 1) : II четверть : True\n",
      "(5, -1) : IV четверть : True\n"
     ]
    }
   ],
   "source": [
    "#тестирование задания №5\n",
    "test_data = {(1,2): \"I четверть\",\n",
    "             (-1,-2): \"III четверть\",\n",
    "            (-5,1): \"II четверть\",\n",
    "             (5, -1):\"IV четверть\" }\n",
    "\n",
    "for i in test_data:\n",
    "    a,b = i\n",
    "    answer = my_func(a,b)\n",
    "    print(\"{0} : {1} : {2}\".format(i, test_data[i], answer==test_data[i]))"
   ]
  },
  {
   "cell_type": "markdown",
   "metadata": {},
   "source": [
    "### Задание 6: <a class=\"anchor\" id=\"task2\"></a>\n",
    "\n",
    "Напишите функцию, которая принимает одно значение - число . Функция должна возвращать строку - полученное число в двоичном виде"
   ]
  },
  {
   "cell_type": "code",
   "execution_count": 56,
   "metadata": {},
   "outputs": [
    {
     "data": {
      "text/plain": [
       "'0b101010'"
      ]
     },
     "execution_count": 56,
     "metadata": {},
     "output_type": "execute_result"
    }
   ],
   "source": [
    "def binar(a:int):\n",
    "    answ = str(bin(a))\n",
    "    return answ\n",
    "\n",
    "binar(42)"
   ]
  },
  {
   "cell_type": "markdown",
   "metadata": {},
   "source": [
    "### Задание 7:<a class=\"anchor\" id=\"task5\"></a>\n",
    "\n",
    "Написать функцию, которая будет принимать одно значение - список. Список содержит числа. Все числа, кроме двух, повторяются как минимум два раза. Вернуть список из этих двух неповторяющихся чисел"
   ]
  },
  {
   "cell_type": "code",
   "execution_count": 65,
   "metadata": {},
   "outputs": [
    {
     "data": {
      "text/plain": [
       "[3, 8]"
      ]
     },
     "execution_count": 65,
     "metadata": {},
     "output_type": "execute_result"
    }
   ],
   "source": [
    "def my_fnc(a:list):\n",
    "    lst = []\n",
    "    \n",
    "    for i in set(a):\n",
    "        j = 0\n",
    "        \n",
    "        for n in range(len(a)):\n",
    "            if i == a[n]:\n",
    "                j += 1\n",
    "                \n",
    "        if j==1:\n",
    "            lst.append(i)\n",
    "    return lst\n",
    "\n",
    "my_fnc([1,1,1,3,-4,-4,-4,77,8,88,88,77])\n"
   ]
  },
  {
   "cell_type": "markdown",
   "metadata": {
    "tags": []
   },
   "source": [
    "### Задание 8: <a class=\"anchor\" id=\"task2\"></a>\n",
    "\n",
    "Напишите функцию, которая принимает два значения - числа **num**, **length** (основное число, количество умножений). Функция должна возвращать список перемножений числа **num** **length** раз. Пример: test_function(7, 5) ➞ [7, 14, 21, 28, 35]"
   ]
  },
  {
   "cell_type": "code",
   "execution_count": 17,
   "metadata": {},
   "outputs": [],
   "source": [
    "def multi_func(num:int, length:int):\n",
    "    ans = [num * n for n in range(1,length+1) ]\n",
    "    return ans"
   ]
  },
  {
   "cell_type": "code",
   "execution_count": 23,
   "metadata": {},
   "outputs": [
    {
     "name": "stdout",
     "output_type": "stream",
     "text": [
      "(2, 3) --> [2, 4, 6] : True\n",
      "(9, 3) --> [9, 18, 27] : True\n",
      "(6, 8) --> [6, 12, 18, 24, 30, 36, 42, 48] : True\n",
      "(0, 3) --> [0, 0, 0] : True\n"
     ]
    }
   ],
   "source": [
    "# тестирование для задания № 8\n",
    "test_data = {(2,3): [2, 4, 6],\n",
    "             (9,3): [9, 18, 27],\n",
    "             (6,8): [6,12, 18, 24, 30, 36, 42, 48],\n",
    "             (0,3):[0,0,0]}\n",
    "\n",
    "for i in test_data:\n",
    "    a,b = i\n",
    "    answer = multi_func(a,b)\n",
    "    print(\"{0} --> {1} : {2}\".format(i, answer, answer==test_data[i]))"
   ]
  },
  {
   "cell_type": "markdown",
   "metadata": {},
   "source": [
    "### Задание 9: <a class=\"anchor\" id=\"task6\"></a>\n",
    "\n",
    "Написать функцию, которая будет принимать одно значение - строку. Функция должна возвращать представление полученной строки закодированной азбукой Морзе. Входная строка может содержать буквы как нижнего, так и верхнего регистра. Междк всеми словами присутствует пробел"
   ]
  },
  {
   "cell_type": "code",
   "execution_count": 89,
   "metadata": {},
   "outputs": [
    {
     "data": {
      "text/plain": [
       "'......-...--. ...---... .---.--.-.-.-'"
      ]
     },
     "execution_count": 89,
     "metadata": {},
     "output_type": "execute_result"
    }
   ],
   "source": [
    "def morze(a:str):\n",
    "    ans = \"\"\n",
    "    char_to_dots = {\n",
    "      'A': '.-', 'B': '-...', 'C': '-.-.', 'D': '-..', 'E': '.', 'F': '..-.',\n",
    "      'G': '--.', 'H': '....', 'I': '..', 'J': '.---', 'K': '-.-', 'L': '.-..',\n",
    "      'M': '--', 'N': '-.', 'O': '---', 'P': '.--.', 'Q': '--.-', 'R': '.-.',\n",
    "      'S': '...', 'T': '-', 'U': '..-', 'V': '...-', 'W': '.--', 'X': '-..-',\n",
    "      'Y': '-.--', 'Z': '--..', ' ': ' ', '0': '-----',\n",
    "      '1': '.----', '2': '..---', '3': '...--', '4': '....-', '5': '.....',\n",
    "      '6': '-....', '7': '--...', '8': '---..', '9': '----.',\n",
    "      '&': '.-...', \"'\": '.----.', '@': '.--.-.', ')': '-.--.-', '(': '-.--.',\n",
    "      ':': '---...', ',': '--..--', '=': '-...-', '!': '-.-.--', '.': '.-.-.-',\n",
    "      '-': '-....-', '+': '.-.-.', '\"': '.-..-.', '?': '..--..', '/': '-..-.'\n",
    "    }\n",
    "    for i in a.upper():\n",
    "        ans += char_to_dots[i]\n",
    "    return ans\n",
    "\n",
    "morze(\"help sos attack\")\n"
   ]
  },
  {
   "cell_type": "markdown",
   "metadata": {},
   "source": [
    "### Задание 10: <a class=\"anchor\" id=\"task6\"></a>\n",
    "\n",
    "Написать функцию, которая будет принимать одно значение - список. Функция должна возвращать самое частое значение в списке (встречается > N/2). Пример: test_function([\"A\", \"A\", \"A\", \"B\", \"C\", \"A\"]) ➞ \"A\""
   ]
  },
  {
   "cell_type": "code",
   "execution_count": 45,
   "metadata": {},
   "outputs": [],
   "source": [
    "# вариант 1\n",
    "def my_func(a:list):\n",
    "    ans = []\n",
    "    for i in set(a):\n",
    "        j = 0 \n",
    "        for n in range(len(a)):\n",
    "            if i == a[n]:\n",
    "                j += 1\n",
    "        if j > (len(a)/2):\n",
    "            ans.append(i)\n",
    "\n",
    "    return ans"
   ]
  },
  {
   "cell_type": "code",
   "execution_count": 47,
   "metadata": {},
   "outputs": [
    {
     "name": "stdout",
     "output_type": "stream",
     "text": [
      "['A', 'A', 'BB', 'BB', 'BB', 'BB'] --> ['BB'] : True\n",
      "['BA', 'BA', 'BA', 'AA'] --> ['BA'] : True\n",
      "['1', '2', '3', '4', '1', '1', '1', '1'] --> ['1'] : True\n"
     ]
    }
   ],
   "source": [
    "# тестирование задания № 10\n",
    "test_data = {\"BB\": [\"A\", \"A\", \"BB\", \"BB\", \"BB\", \"BB\"],\n",
    "             \"BA\": [\"BA\", \"BA\", \"BA\", \"AA\"],\n",
    "              \"1\": [\"1\",\"2\",\"3\",\"4\",\"1\",\"1\",\"1\",\"1\"]}\n",
    "\n",
    "for i in test_data:\n",
    "    answer = my_func(test_data[i])\n",
    "    print( \"{0} --> {1} : {2}\".format(test_data[i], answer, answer[0] == i))"
   ]
  },
  {
   "cell_type": "markdown",
   "metadata": {},
   "source": [
    "### Задание 11: \n",
    "Создайте функцию для выполнения основных арифметических операций, которая применяет сложение, вычитание, умножение и деление к строковому значению (например, \"12 + 24\" или \"23-21\" или \"12 // 12\" или \"12 * 21\").\n",
    "\n",
    "Здесь у нас есть 1 число, за которым следует пробел, затем оператор, за которым следует другой пробел, и 2 число. Возвращаемое значение должно быть числом.\n",
    "\n",
    "Применение функции eval() не допускается. В случае деления, всякий раз, когда второе число равно \"0\", возвращайте -1."
   ]
  },
  {
   "cell_type": "code",
   "execution_count": 53,
   "metadata": {},
   "outputs": [],
   "source": [
    "def my_func(a:str):\n",
    "    arg = a.split(\" \")\n",
    "    \n",
    "    if arg[1] == \"+\":\n",
    "        ans = int(arg[0]) + int(arg[2])\n",
    "    elif arg[1] == \"-\":\n",
    "        ans = int(arg[0]) - int(arg[2])\n",
    "    elif arg[1] == \"*\":\n",
    "        ans = int(arg[0]) * int(arg[2])  \n",
    "    elif arg[1] == \"//\" and arg[2] != 0:\n",
    "        ans = int(arg[0]) // int(arg[2])\n",
    "    else:\n",
    "        return -1\n",
    "                                 \n",
    "    return ans\n"
   ]
  },
  {
   "cell_type": "code",
   "execution_count": 54,
   "metadata": {},
   "outputs": [
    {
     "name": "stdout",
     "output_type": "stream",
     "text": [
      "12 + 24 = 36 : True\n",
      "21 - 21 = 0 : True\n",
      "23 - 21 = 2 : True\n",
      "13 * 21 = 273 : True\n",
      "30 // 21 = 1 : True\n",
      "2 - 2 = 0 : True\n",
      "123 + 2 = 125 : True\n"
     ]
    }
   ],
   "source": [
    "#тестирвоание задания 11\n",
    "test_data = { \"12 + 24\":36,\n",
    "             \"21 - 21\": 0, \n",
    "             \"23 - 21\": 2, \n",
    "             \"13 * 21\": 273, \n",
    "             \"30 // 21\": 1,\n",
    "             \"2 - 2\": 0,\n",
    "             \"123 + 2\": 125}\n",
    "\n",
    "for data in test_data:\n",
    "    answer = my_func(data)\n",
    "    print( \"{0} = {1} : {2}\".format(data, answer, answer==test_data[data]))"
   ]
  },
  {
   "cell_type": "markdown",
   "metadata": {},
   "source": [
    "### Задание 12: \n",
    "Напишите функцию, которая принимает список списков и возвращает значение всех символов в нем, где каждый символ добавляет или отнимает что-то от общего балла. Значения символов:\n",
    "\n",
    "* \\# = 5\n",
    "* О = 3\n",
    "* Х = 1\n",
    "* ! = -1\n",
    "* !! = -3\n",
    "* !!! = -5\n",
    "\n",
    "Если итоговый результат отрицательный, верните 0 (например, 3 ``#``, 3 ``!!``, 2 ``!!!`` и ``X`` будет (5 + 5 + 5 - 3 - 3 - 3 - 5 - 5 + 1) = -3, так что верните 0."
   ]
  },
  {
   "cell_type": "code",
   "execution_count": 13,
   "metadata": {},
   "outputs": [],
   "source": [
    "def my_func(a:list):\n",
    "    ans =[]\n",
    "    data = {\"#\" : 5,\n",
    "            \"O\" : 3,\n",
    "            \"X\" : 1,\n",
    "            \"!\" : -1,\n",
    "            \"!!\" : -3,\n",
    "            \"!!!\": -5}\n",
    "    \n",
    "    for out in a:\n",
    "        num = 1\n",
    "        for inner in out:\n",
    "            if inner in data:\n",
    "                for n in range(num):\n",
    "                    ans.append(data[inner])\n",
    "            else:\n",
    "                num = int(inner)\n",
    "            \n",
    "    answer = sum(ans)\n",
    "    ans_str = str(ans[0])\n",
    "    \n",
    "    if answer < 0:\n",
    "        return \"0\"\n",
    "    \n",
    "    for i in ans[1:]:\n",
    "        if i >= 0:\n",
    "            ans_str += \" + \" + str(i)\n",
    "        else:\n",
    "            ans_str += \" \" + str(i)\n",
    "        \n",
    "    return \"{0} = {1}\".format(ans_str, answer)                  "
   ]
  },
  {
   "cell_type": "code",
   "execution_count": 14,
   "metadata": {},
   "outputs": [
    {
     "name": "stdout",
     "output_type": "stream",
     "text": [
      "5 + 5 -3 -3 -3 -1 -1 -1 -1 + 1 + 1 + 1 = 0\n",
      "1 + 1 + 1 + 1 + 1 + 5 + 5 + 5 + 1 + 1 + 1 + 1 + 1 = 25\n",
      "3 + 3 + 3 + 3 + 3 + 3 + 3 + 3 + 5 + 5 + 5 + 5 + 5 + 5 + 5 + 5 = 64\n",
      "0\n"
     ]
    }
   ],
   "source": [
    "#тестирование для задания 12\n",
    "test_data = {0: [[2,\"#\"], [3, \"!!\"], [4, \"!\"], [3,\"X\"]],\n",
    "             25: [[5,\"X\"], [3, \"#\"], [4, \"X\"], [\"X\"]],\n",
    "             64: [[8,\"O\"], [3, \"#\"], [4, \"#\"], [\"#\"]],\n",
    "             -69: [[8,\"!!!\"], [9, \"!!\"], [1, \"!\"], [\"X\"]]}\n",
    "\n",
    "for data in test_data:\n",
    "    test_ans = my_func(test_data[data]) \n",
    "    print (\"{0}\".format(test_ans))"
   ]
  },
  {
   "cell_type": "markdown",
   "metadata": {},
   "source": [
    "### Задание 13: <a class=\"anchor\" id=\"task7\"></a>\n",
    "\n",
    "Написать функцию, которая будет принимать одно значение - строку. Функция определяет свободные и занятые участки пляжа. Строка состоит из двух символов 0 - свободный участок, 1 - занятый участок. Из-за недавних ограничений новый человек не может занять место рядом с другим. Должно быть одно свободное место между двумя людьми, отдыхающими на пляже. Функци должна вернуть число - количество новых людей, которые могут воспользоваться местами на пляже.\n",
    "\n",
    "! использовал list(a), для разбивки"
   ]
  },
  {
   "cell_type": "code",
   "execution_count": 57,
   "metadata": {},
   "outputs": [],
   "source": [
    "def my_func(a:str):\n",
    "    i_men = 0\n",
    "    j = 0\n",
    "    a=list(a)\n",
    "    for n in range(1,len(a)-1):\n",
    "            if a[n]== a[n-1] == a[n+1] == \"0\":\n",
    "                j += 1\n",
    "                a[n] = \"1\"\n",
    "    if a[0]==  a[1] == \"0\" and a[2] == \"1\":\n",
    "        j += 1\n",
    "    elif a[-1] ==  a[-2] == \"0\" and a[-3] == \"1\":\n",
    "        j += 1\n",
    "    return j\n",
    "      "
   ]
  },
  {
   "cell_type": "code",
   "execution_count": 58,
   "metadata": {},
   "outputs": [
    {
     "name": "stdout",
     "output_type": "stream",
     "text": [
      "00010010101010001 = 2: True\n",
      "010010001000100010001000111110000101010101 = 6: True\n",
      "010010001000100010001000100010001000100010001 = 10: True\n",
      "000111000 = 2: True\n"
     ]
    }
   ],
   "source": [
    "#тестирование для задания 13\n",
    "test_data = {\"00010010101010001\": 2,\n",
    "            \"010010001000100010001000111110000101010101\": 6,\n",
    "            \"010010001000100010001000100010001000100010001\":10,\n",
    "            \"000111000\":2}\n",
    "\n",
    "for data in test_data:\n",
    "    answer= my_func(data)\n",
    "    print(\"{0} = {1}: {2}\".format(data, answer, answer == test_data[data]))"
   ]
  },
  {
   "cell_type": "markdown",
   "metadata": {},
   "source": [
    "### Задание 14: <a class=\"anchor\" id=\"task7\"></a>\n",
    "\n",
    "Написать функцию, которая будет принимать одно значение - строку или список. Необходимо зашифровать строку. Первый элемент строки - код буквы в ascii (например 'a' = 97, a 'A' = 65). Следующий элемент - закодированная с помощью таблицы разница между текущим и предыдущим символом, итд. Если подается список - необходимо расшифровать его. Алгоритм такой же - первое число перекодируется в соответствием с таблицей ascii, второй символ - сумма первого и второго числа перекодированная с помощью таблицы ascii.\n",
    "\n",
    "\n",
    "__ord()__-\n",
    "\n",
    "__chr()__ - "
   ]
  },
  {
   "cell_type": "code",
   "execution_count": null,
   "metadata": {},
   "outputs": [],
   "source": [
    "test_function(\"Hello\") ➞ [72, 29, 7, 0, 3]\n",
    "\n",
    "test_function([ 72, 33, -73, 84, -12, -3, 13, -13, -68 ]) ➞ \"Hi there!\""
   ]
  },
  {
   "cell_type": "code",
   "execution_count": 1,
   "metadata": {},
   "outputs": [],
   "source": [
    "def my_typical_func(a):\n",
    "    \n",
    "\n",
    "    if type(a) == str:\n",
    "        ans_cod = [ord(a[0])]\n",
    "        for i in range(len(a) - 1):\n",
    "            ans_cod.append(ord(a[i+1]) - ord(a[i]))\n",
    "        return ans_cod\n",
    "    \n",
    "    elif type(a) == list:\n",
    "    \n",
    "        ans_decod = chr(a[0])\n",
    "        \n",
    "        for i in range(len(a) - 1):\n",
    "             ans_decod += chr(ord(ans_decod[i]) + a[i+1])\n",
    "            \n",
    "        return ans_decod\n",
    "    \n"
   ]
  },
  {
   "cell_type": "code",
   "execution_count": 3,
   "metadata": {},
   "outputs": [
    {
     "name": "stdout",
     "output_type": "stream",
     "text": [
      "Hello --> [72, 29, 7, 0, 3] : True\n",
      "[72, 33, -73, 84, -12, -3, 13, -13, -68] --> Hi there! : True\n"
     ]
    }
   ],
   "source": [
    "a = (\"Hello\",[72, 29, 7, 0, 3])\n",
    "b = ([ 72, 33, -73, 84, -12, -3, 13, -13, -68 ], \"Hi there!\")\n",
    "\n",
    "print(\"{0} --> {1} : {2}\".format(a[0], my_typical_func(a[0]),my_typical_func(a[0])==a[1] ) )\n",
    "print(\"{0} --> {1} : {2}\".format(b[0], my_typical_func(b[0]),my_typical_func(b[0])==b[1] ) )"
   ]
  },
  {
   "cell_type": "markdown",
   "metadata": {},
   "source": [
    "### Задание 15:\n",
    "Создайте функцию, которая определяет, может ли c каждого места в концертном зале видеть сцену. С места можно увидеть сцену, если значение этого места (указано во входном списке) строго больше, чем значение перед ним.\n",
    "\n",
    "Каждый может увидеть сцену в примере ниже:\n",
    "\n",
    "``[[1, 2, 3, 2, 1, 1],\n",
    " [2, 4, 4, 3, 2, 2],\n",
    " [5, 5, 5, 5, 4, 4],\n",
    " [6, 6, 7, 6, 5, 5]]``\n",
    "\n",
    "Не все видят сцену:\n",
    "\n",
    "``[[1, 2, 3, 2, 1, 1], \n",
    "  [2, 4, 4, 3, 2, 2], \n",
    "  [5, 5, 5, 10, 4, 4], \n",
    "  [6, 6, 7, 6, 5, 5]]``\n",
    "\n",
    "Функция должна возвращать True, если абсолютно все видят сцену, ичане False"
   ]
  },
  {
   "cell_type": "code",
   "execution_count": 82,
   "metadata": {},
   "outputs": [],
   "source": [
    "def my_func(a):\n",
    "    for i in range(len(a[0])):\n",
    "        for n in range(len(a)-1, 0, -1):\n",
    "            if a[-1][i] < a[n][i]:\n",
    "                return False\n",
    "    return True"
   ]
  },
  {
   "cell_type": "code",
   "execution_count": 81,
   "metadata": {},
   "outputs": [
    {
     "name": "stdout",
     "output_type": "stream",
     "text": [
      "[[1, 2, 3, 2, 1, 1], [2, 4, 4, 3, 2, 2], [5, 5, 5, 5, 4, 4], [6, 6, 7, 6, 5, 5]]: True\n",
      "[[2, 4, 3, 2, 1, 1], [2, 4, 4, 3, 2, 2], [5, 5, 3, 5, 1, 4], [6, 6, 9, 6, 1, 5]]: False\n"
     ]
    }
   ],
   "source": [
    "#тестирование для задания 15\n",
    "test_data = {\"True\": [[1, 2, 3, 2, 1, 1],\n",
    "                      [2, 4, 4, 3, 2, 2],\n",
    "                      [5, 5, 5, 5, 4, 4],\n",
    "                      [6, 6, 7, 6, 5, 5]],\n",
    "             \"False\": [[2, 4, 3, 2, 1, 1],\n",
    "                       [2, 4, 4, 3, 2, 2],\n",
    "                       [5, 5, 3, 5, 1, 4],\n",
    "                       [6, 6, 9, 6, 1, 5]]\n",
    "            }\n",
    "\n",
    "for data in test_data:\n",
    "    answer = my_func(test_data[data])\n",
    "    print(\"{0}: {1}\".format(test_data[data], answer== bool(data)))"
   ]
  },
  {
   "cell_type": "markdown",
   "metadata": {},
   "source": [
    "### Задание 16:\n",
    "Создать функции, которая будет строить лестницу, используя знаки ‘_’ и ‘#’. Положительное значение обозначают, что направление лестницы направленно вверх и вниз для отрицательных значений.\n",
    "Пример\n",
    "\n",
    "``staircase(3) ➞ \"__#\\n_##\\n###\"\n",
    "__#\n",
    "_##\n",
    "###``\n",
    "\n",
    "``staircase(7) ➞ \"______#\\n_____##\\n____###\\n___####\\n__#####\\n_######\\n#######\"\n",
    "______#\n",
    "_____##\n",
    "____###\n",
    "___####\n",
    "__#####\n",
    "_######\n",
    "#######``\n",
    "\n",
    "``staircase(2) ➞ \"_#\\n##\"\n",
    "_#\n",
    "##``\n",
    "\n",
    "``staircase(-8) ➞ \"########\\n_#######\\n__######\\n___#####\\n____####\\n_____###\\n______##\\n_______#\"\n",
    "########\n",
    "_#######\n",
    "__######\n",
    "___#####\n",
    "____####\n",
    "_____###\n",
    "______##\n",
    "_______#``\n",
    "\n",
    "Замечания:\n",
    "Возвращаемая строка дополняется символом перехода на новую строку \\n"
   ]
  },
  {
   "cell_type": "code",
   "execution_count": 101,
   "metadata": {},
   "outputs": [],
   "source": [
    "def staircase(a):\n",
    "    strg = \"\"\n",
    "    if a > 0:\n",
    "        for i in range(1, a+1):\n",
    "            strg = (\"_\" * (a - i)) + (\"#\" * i)\n",
    "            print(\"{0}\".format(strg) ,\"\\n\")\n",
    "    elif a < 0:\n",
    "        a = abs(a)\n",
    "        for i in range(a):\n",
    "            strg = (\"#\" * (a - i)) + (\"_\" * i)\n",
    "            print(\"{0}\".format(strg) ,\"\\n\")\n"
   ]
  },
  {
   "cell_type": "code",
   "execution_count": 102,
   "metadata": {},
   "outputs": [
    {
     "name": "stdout",
     "output_type": "stream",
     "text": [
      "___# \n",
      "\n",
      "__## \n",
      "\n",
      "_### \n",
      "\n",
      "#### \n",
      "\n",
      "______# \n",
      "\n",
      "_____## \n",
      "\n",
      "____### \n",
      "\n",
      "___#### \n",
      "\n",
      "__##### \n",
      "\n",
      "_###### \n",
      "\n",
      "####### \n",
      "\n",
      "#### \n",
      "\n",
      "###_ \n",
      "\n",
      "##__ \n",
      "\n",
      "#___ \n",
      "\n",
      "##### \n",
      "\n",
      "####_ \n",
      "\n",
      "###__ \n",
      "\n",
      "##___ \n",
      "\n",
      "#____ \n",
      "\n"
     ]
    }
   ],
   "source": [
    "test_data =[4,7,-4,-5]\n",
    "for data in test_data:\n",
    "    staircase(data)"
   ]
  },
  {
   "cell_type": "markdown",
   "metadata": {},
   "source": [
    "### Задание 17:\n",
    "\n",
    "Имеется строк из символов в нижнем регистре ascii[[\"a\"..\"z\"]]. Нужно сократить строку следующим образом: берется пара соседних символов и если они одинаковы, то они удаляются. Например aab должно превратится в b.\n",
    "Нужно удалить как можно больше символов. Если результирующая строка пустая, нужно вернуть \"Empty String\"\n",
    "\n",
    "Пример:\n",
    "\n",
    "``super_reduced_string(\"aaabccddd\") ➞ \"abd\"``"
   ]
  },
  {
   "cell_type": "code",
   "execution_count": 31,
   "metadata": {},
   "outputs": [
    {
     "name": "stdout",
     "output_type": "stream",
     "text": [
      "['a', 'a', 'b', 'a', 'a', 'a', 'b', 'a', 'a', 'a', 'a', 'b', 'a', 'b', 'a', 'c']\n",
      "a\n",
      "['b', 'a', 'a', 'a', 'b', 'a', 'a', 'a', 'a', 'b', 'a', 'b', 'a', 'c']\n",
      "['b', 'a', 'a', 'a', 'b', 'a', 'a', 'a', 'a', 'b', 'a', 'b', 'a', 'c']\n",
      "a\n",
      "['b', 'a', 'b', 'a', 'a', 'a', 'a', 'b', 'a', 'b', 'a', 'c']\n",
      "['b', 'a', 'b', 'a', 'a', 'a', 'a', 'b', 'a', 'b', 'a', 'c']\n",
      "['b', 'a', 'b', 'a', 'a', 'a', 'a', 'b', 'a', 'b', 'a', 'c']\n",
      "['b', 'a', 'b', 'a', 'a', 'a', 'a', 'b', 'a', 'b', 'a', 'c']\n",
      "a\n",
      "['b', 'a', 'b', 'a', 'a', 'b', 'a', 'b', 'a', 'c']\n",
      "['b', 'a', 'b', 'a', 'a', 'b', 'a', 'b', 'a', 'c']\n",
      "['b', 'a', 'b', 'a', 'a', 'b', 'a', 'b', 'a', 'c']\n",
      "['b', 'a', 'b', 'a', 'a', 'b', 'a', 'b', 'a', 'c']\n",
      "a\n",
      "['b', 'a', 'b', 'b', 'a', 'b', 'a', 'c']\n",
      "['b', 'a', 'b', 'b', 'a', 'b', 'a', 'c']\n",
      "['b', 'a', 'b', 'b', 'a', 'b', 'a', 'c']\n",
      "b\n",
      "['b', 'a', 'a', 'b', 'a', 'c']\n",
      "['b', 'a', 'a', 'b', 'a', 'c']\n",
      "a\n",
      "['b', 'b', 'a', 'c']\n",
      "b\n",
      "['a', 'c']\n"
     ]
    },
    {
     "data": {
      "text/plain": [
       "'ac'"
      ]
     },
     "execution_count": 31,
     "metadata": {},
     "output_type": "execute_result"
    }
   ],
   "source": [
    "def my_func_string(a:str):\n",
    "    my_list = list(a)\n",
    "    ans = []\n",
    "    answer = \"\"\n",
    "    for i in range(len(my_list)-1):\n",
    "        print(my_list)\n",
    "\n",
    "        if  my_list[i] == my_list[i+1]:\n",
    " \n",
    "            my_list.pop(i+1)\n",
    "            my_list.pop(i)\n",
    "            \n",
    "            return my_func_string(\"\".join(my_list))\n",
    "              \n",
    "          \n",
    "    if len(a)==0:\n",
    "        return  \"Empty String\"\n",
    "        \n",
    "    return  a\n",
    "my_func_string(\"aabaaabaaaababac\")"
   ]
  },
  {
   "cell_type": "code",
   "execution_count": 33,
   "metadata": {},
   "outputs": [
    {
     "name": "stdout",
     "output_type": "stream",
     "text": [
      "['a', 'a', 'b', 'a', 'a', 'a', 'b', 'a', 'a', 'a', 'a', 'b', 'a', 'b', 'a', 'c']\n",
      "a\n",
      "['b', 'a', 'a', 'a', 'b', 'a', 'a', 'a', 'a', 'b', 'a', 'b', 'a', 'c']\n",
      "['b', 'a', 'a', 'a', 'b', 'a', 'a', 'a', 'a', 'b', 'a', 'b', 'a', 'c']\n",
      "a\n",
      "['b', 'a', 'b', 'a', 'a', 'a', 'a', 'b', 'a', 'b', 'a', 'c']\n",
      "['b', 'a', 'b', 'a', 'a', 'a', 'a', 'b', 'a', 'b', 'a', 'c']\n",
      "['b', 'a', 'b', 'a', 'a', 'a', 'a', 'b', 'a', 'b', 'a', 'c']\n",
      "['b', 'a', 'b', 'a', 'a', 'a', 'a', 'b', 'a', 'b', 'a', 'c']\n",
      "a\n",
      "['b', 'a', 'b', 'a', 'a', 'b', 'a', 'b', 'a', 'c']\n",
      "['b', 'a', 'b', 'a', 'a', 'b', 'a', 'b', 'a', 'c']\n",
      "['b', 'a', 'b', 'a', 'a', 'b', 'a', 'b', 'a', 'c']\n",
      "['b', 'a', 'b', 'a', 'a', 'b', 'a', 'b', 'a', 'c']\n",
      "a\n",
      "['b', 'a', 'b', 'b', 'a', 'b', 'a', 'c']\n",
      "['b', 'a', 'b', 'b', 'a', 'b', 'a', 'c']\n",
      "['b', 'a', 'b', 'b', 'a', 'b', 'a', 'c']\n",
      "b\n",
      "['b', 'a', 'a', 'b', 'a', 'c']\n",
      "['b', 'a', 'a', 'b', 'a', 'c']\n",
      "a\n",
      "['b', 'b', 'a', 'c']\n",
      "b\n",
      "['a', 'c']\n",
      "aabaaabaaaababac --> ac : True\n",
      "['a', 'b', 'c', 'd', 'e']\n",
      "['a', 'b', 'c', 'd', 'e']\n",
      "['a', 'b', 'c', 'd', 'e']\n",
      "['a', 'b', 'c', 'd', 'e']\n",
      "abcde --> abcde : True\n",
      "['a', 'a', 'b', 'b', 'c', 'c', 'c', 'd', 'a', 'e']\n",
      "a\n",
      "['b', 'b', 'c', 'c', 'c', 'd', 'a', 'e']\n",
      "b\n",
      "['c', 'c', 'c', 'd', 'a', 'e']\n",
      "c\n",
      "['c', 'd', 'a', 'e']\n",
      "['c', 'd', 'a', 'e']\n",
      "['c', 'd', 'a', 'e']\n",
      "aabbcccdae --> cdae : True\n",
      "['a', 'a', 'b', 'b', 'c', 'c']\n",
      "a\n",
      "['b', 'b', 'c', 'c']\n",
      "b\n",
      "['c', 'c']\n",
      "c\n",
      "aabbcc --> Empty String : True\n"
     ]
    }
   ],
   "source": [
    "#тестирование для задания 17\n",
    "test_data = {\"aabaaabaaaababac\": \"ac\",\n",
    "            \"abcde\": \"abcde\",\n",
    "            \"aabbcccdae\": \"cdae\",\n",
    "            \"aabbcc\": \"Empty String\"}\n",
    "\n",
    "for data in test_data:\n",
    "    my_answer = my_func_string(data)\n",
    "    print(\"{0} --> {1} : {2}\".format(data, my_answer, test_data[data] == my_answer))"
   ]
  },
  {
   "cell_type": "markdown",
   "metadata": {},
   "source": [
    "### Задание 18:\n",
    "\n",
    "Создать функцию, которая вернет ближайшую к текущей странице главу. Если две главы одинаково близко, то выбирается та, которая находится на большей по порядку странице.\n",
    "Пример\n",
    "\n",
    "``nearest_chapter({\n",
    "  \"Chapter 1\" : 1,\n",
    "  \"Chapter 2\" : 15,\n",
    "  \"Chapter 3\" : 37\n",
    "}, 10) ➞ \"Chapter 2\"``\n",
    "\n",
    "\n",
    "``nearest_chapter({\n",
    "  \"New Beginnings\" : 1,\n",
    "  \"Strange Developments\" : 62,\n",
    "  \"The End?\" : 194,\n",
    "  \"The True Ending\" : 460\n",
    "}, 200) ➞ \"The End?\"``\n",
    "\n",
    "\n",
    "``nearest_chapter({\n",
    "  \"Chapter 1a\" : 1,\n",
    "  \"Chapter 1b\" : 5\n",
    "}, 3) ➞ \"Chapter 1b\"``"
   ]
  },
  {
   "cell_type": "code",
   "execution_count": 52,
   "metadata": {},
   "outputs": [],
   "source": [
    "def chapter(my_dict:dict, b:int):\n",
    "    my_values= list(my_dict.values())\n",
    "    my_keys = list(my_dict.keys())\n",
    "    my_list = []\n",
    "    \n",
    "    for i in range(len(my_dict)):\n",
    "        dif = abs(b - my_values[i])\n",
    "        my_list.append(dif)\n",
    "    \n",
    "    if my_list.count(min(my_list)) == 2:\n",
    "        my_id = [i for i,x in enumerate(my_list) if x == min(my_list)]\n",
    "        return my_keys[max(my_id)]\n",
    "    \n",
    "    min_id = my_list.index(min(my_list))\n",
    "    return my_keys[min_id]\n",
    "   "
   ]
  },
  {
   "cell_type": "code",
   "execution_count": 61,
   "metadata": {},
   "outputs": [
    {
     "name": "stdout",
     "output_type": "stream",
     "text": [
      "{'Chapter 1a': 1, 'Chapter 1b': 5} -- > Chapter 1b : True\n",
      "{'Chapter 1': 1, 'Chapter 2': 15, 'Chapter 3': 37} --> Chapter 2 : True\n",
      "{'New Beginnings': 1, 'Strange Developments': 62, 'The End?': 194, 'The True Ending': 460} --> The End? : True\n"
     ]
    }
   ],
   "source": [
    "# тестирование для задания 18\n",
    "a = { \"Chapter 1a\" : 1,\n",
    "        \"Chapter 1b\" : 5}\n",
    "b = 3\n",
    "     \n",
    "print( \"{0} -- > {1} : {2}\".format(a, chapter(a,b),chapter(a,b) == \"Chapter 1b\"))\n",
    "\n",
    "\n",
    "c = { \"Chapter 1\" : 1, \n",
    "      \"Chapter 2\" : 15,\n",
    "      \"Chapter 3\" : 37}\n",
    "d = 10\n",
    "     \n",
    "print(\"{0} --> {1} : {2}\".format(c,chapter(c,d),chapter(c,d) == \"Chapter 2\") )\n",
    "\n",
    "     \n",
    "     \n",
    "e ={\n",
    "  \"New Beginnings\" : 1,\n",
    "  \"Strange Developments\" : 62,\n",
    "  \"The End?\" : 194,\n",
    "  \"The True Ending\" : 460 } \n",
    "f = 200\n",
    "print(\"{0} --> {1} : {2}\".format(e, chapter(e,f),chapter(e,f) == \"The End?\") )"
   ]
  }
 ],
 "metadata": {
  "kernelspec": {
   "display_name": "Python 3",
   "language": "python",
   "name": "python3"
  },
  "language_info": {
   "codemirror_mode": {
    "name": "ipython",
    "version": 3
   },
   "file_extension": ".py",
   "mimetype": "text/x-python",
   "name": "python",
   "nbconvert_exporter": "python",
   "pygments_lexer": "ipython3",
   "version": "3.8.1"
  }
 },
 "nbformat": 4,
 "nbformat_minor": 5
}
